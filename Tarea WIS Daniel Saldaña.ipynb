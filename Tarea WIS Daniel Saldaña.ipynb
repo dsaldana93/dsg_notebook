{
 "cells": [
  {
   "cell_type": "code",
   "execution_count": 1,
   "id": "57745ce0",
   "metadata": {},
   "outputs": [
    {
     "name": "stdout",
     "output_type": "stream",
     "text": [
      "El profit optimo es de  250\n"
     ]
    }
   ],
   "source": [
    "\"\"\"\n",
    "Spyder Editor\n",
    "\n",
    "Tarea Daniel Saldaña 8 de Abril 2022\n",
    "\"\"\"\n",
    "#Weighted interval Scheduling con programación dinamica\n",
    "\n",
    "\n",
    "# Clase que representa un trabajo job\n",
    "class Job:\n",
    "\tdef __init__(self, start, finish, profit):\n",
    "\t\tself.start = start\n",
    "\t\tself.finish = finish\n",
    "\t\tself.profit = profit\n",
    "\n",
    "#Función de busqueda binaria para encontrar el trabajo mas reciente\n",
    "# El arreglo se acomoda en orden de tiempo de duración como vaya terminando primero\n",
    "def binarySearch(job, start_index):\n",
    "\n",
    "\t# Se inicializa 'lo' y 'hi' para la busqueda binaria\n",
    "\tlo = 0\n",
    "\thi = start_index - 1\n",
    "\n",
    "\t# Se realiza la busqueda binaria de manera iterativa.\n",
    "\twhile lo <= hi:\n",
    "\t\tmid = (lo + hi) // 2\n",
    "\t\tif job[mid].finish <= job[start_index].start:\n",
    "\t\t\tif job[mid + 1].finish <= job[start_index].start:\n",
    "\t\t\t\tlo = mid + 1\n",
    "\t\t\telse:\n",
    "\t\t\t\treturn mid\n",
    "\t\telse:\n",
    "\t\t\thi = mid - 1\n",
    "\treturn -1\n",
    "\n",
    "# Función principal que regresa el máximo profit del array de los trabajos.\n",
    "def schedule(job):\n",
    "\n",
    "\t# Trabajos acomodados por tiempos de finalización.\n",
    "\tjob = sorted(job, key = lambda j: j.finish)\n",
    "\n",
    "\t# Aquí se crea un array para almacenar las soluciones a los subproblemas. \n",
    "\t# Almacena el profit de los trabajos.\n",
    "\tn = len(job)\n",
    "\ttable = [0 for _ in range(n)]\n",
    "\n",
    "\ttable[0] = job[0].profit;\n",
    "\n",
    "\t# Llena las entradas en la tabla.\n",
    "\tfor i in range(1, n):\n",
    "\n",
    "\t\t# Encuentra el profit incluyendo el trabajo actual\n",
    "\t\tinclProf = job[i].profit\n",
    "\t\tl = binarySearch(job, i)\n",
    "\t\tif (l != -1):\n",
    "\t\t\tinclProf += table[l];\n",
    "\n",
    "\t\ttable[i] = max(inclProf, table[i - 1])\n",
    "\n",
    "\treturn table[n-1]\n",
    "\n",
    "\n",
    "job = [Job(1, 2, 50), Job(3, 5, 20),\n",
    "Job(6, 19, 100), Job(2, 100, 200)]\n",
    "print(\"El profit optimo es de \", schedule(job))\n",
    " "
   ]
  },
  {
   "cell_type": "code",
   "execution_count": null,
   "id": "f4a691e5",
   "metadata": {},
   "outputs": [],
   "source": []
  }
 ],
 "metadata": {
  "kernelspec": {
   "display_name": "Python 3 (ipykernel)",
   "language": "python",
   "name": "python3"
  },
  "language_info": {
   "codemirror_mode": {
    "name": "ipython",
    "version": 3
   },
   "file_extension": ".py",
   "mimetype": "text/x-python",
   "name": "python",
   "nbconvert_exporter": "python",
   "pygments_lexer": "ipython3",
   "version": "3.9.7"
  }
 },
 "nbformat": 4,
 "nbformat_minor": 5
}
