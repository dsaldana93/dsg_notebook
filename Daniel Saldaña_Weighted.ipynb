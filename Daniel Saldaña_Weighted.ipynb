{
 "cells": [
  {
   "cell_type": "code",
   "execution_count": 10,
   "id": "a5ab1012-a833-46e0-9ba9-f0406f1d3090",
   "metadata": {},
   "outputs": [
    {
     "name": "stdout",
     "output_type": "stream",
     "text": [
      "Optimal profit is 250\n"
     ]
    }
   ],
   "source": [
    "# Python program for weighted job scheduling using Dynamic\n",
    "# Programming and Binary Search\n",
    "\n",
    "# Class to represent a job\n",
    "class Job:\n",
    "\tdef __init__(self, start, finish, profit):\n",
    "\t\tself.start = start\n",
    "\t\tself.finish = finish\n",
    "\t\tself.profit = profit\n",
    "\n",
    "\n",
    "# A Binary Search based function to find the latest job\n",
    "# (before current job) that doesn't conflict with current\n",
    "# job. \"index\" is index of the current job. This function\n",
    "# returns -1 if all jobs before index conflict with it.\n",
    "# The array jobs[] is sorted in increasing order of finish\n",
    "# time.\n",
    "def binarySearch(job, start_index):\n",
    "\n",
    "\t# Initialize 'lo' and 'hi' for Binary Search\n",
    "\tlo = 0\n",
    "\thi = start_index - 1\n",
    "\n",
    "\t# Perform binary Search iteratively\n",
    "\twhile lo <= hi:\n",
    "\t\tmid = (lo + hi) // 2\n",
    "\t\tif job[mid].finish <= job[start_index].start:\n",
    "\t\t\tif job[mid + 1].finish <= job[start_index].start:\n",
    "\t\t\t\tlo = mid + 1\n",
    "\t\t\telse:\n",
    "\t\t\t\treturn mid\n",
    "\t\telse:\n",
    "\t\t\thi = mid - 1\n",
    "\treturn -1\n",
    "\n",
    "# The main function that returns the maximum possible\n",
    "# profit from given array of jobs\n",
    "def schedule(job):\n",
    "\n",
    "\t# Sort jobs according to finish time\n",
    "\tjob = sorted(job, key = lambda j: j.finish)\n",
    "\n",
    "\t# Create an array to store solutions of subproblems. table[i]\n",
    "\t# stores the profit for jobs till arr[i] (including arr[i])\n",
    "\tn = len(job)\n",
    "\ttable = [0 for _ in range(n)]\n",
    "\n",
    "\ttable[0] = job[0].profit;\n",
    "\n",
    "\t# Fill entries in table[] using recursive property\n",
    "\tfor i in range(1, n):\n",
    "\n",
    "\t\t# Find profit including the current job\n",
    "\t\tinclProf = job[i].profit\n",
    "\t\tl = binarySearch(job, i)\n",
    "\t\tif (l != -1):\n",
    "\t\t\tinclProf += table[l];\n",
    "\n",
    "\t\t# Store maximum of including and excluding\n",
    "\t\ttable[i] = max(inclProf, table[i - 1])\n",
    "\n",
    "\treturn table[n-1]\n",
    "\n",
    "# Driver code to test above function\n",
    "job = [Job(1, 2, 50), Job(3, 5, 20),\n",
    "Job(6, 19, 100), Job(2, 100, 200)]\n",
    "print(\"Optimal profit is\", schedule(job))\n",
    " "
   ]
  },
  {
   "cell_type": "code",
   "execution_count": null,
   "id": "2bec7815",
   "metadata": {},
   "outputs": [],
   "source": []
  }
 ],
 "metadata": {
  "kernelspec": {
   "display_name": "Python 3 (ipykernel)",
   "language": "python",
   "name": "python3"
  },
  "language_info": {
   "codemirror_mode": {
    "name": "ipython",
    "version": 3
   },
   "file_extension": ".py",
   "mimetype": "text/x-python",
   "name": "python",
   "nbconvert_exporter": "python",
   "pygments_lexer": "ipython3",
   "version": "3.9.7"
  }
 },
 "nbformat": 4,
 "nbformat_minor": 5
}
