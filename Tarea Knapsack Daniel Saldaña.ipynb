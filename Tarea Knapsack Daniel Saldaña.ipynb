{
 "cells": [
  {
   "cell_type": "markdown",
   "id": "aeaea137",
   "metadata": {},
   "source": [
    "<img src= \"/dsaldana93/dsg_notebook/blob/main/knapsack.png"/>"
   ]
  },
  {
   "cell_type": "code",
   "execution_count": 1,
   "id": "9030525a",
   "metadata": {},
   "outputs": [
    {
     "name": "stdout",
     "output_type": "stream",
     "text": [
      "220\n",
      "30\n",
      "20\n"
     ]
    }
   ],
   "source": [
    "# -*- coding: utf-8 -*-\n",
    "\"\"\"\n",
    "Tarea Knapsack , Daniel Saldaña\n",
    "\"\"\"\n",
    "\n",
    "# El siguiente código muestra objetos en\n",
    "#una mochila con una capacidad de peso.\n",
    "#Al final nos va a mostrar el valor total de la mochila.\n",
    "\n",
    "\n",
    "def printknapSack(W, wt, val, n):  \n",
    "\tK = [[0 for w in range(W + 1)]\n",
    "\t\t\tfor i in range(n + 1)]\n",
    "\t\t\t\n",
    "\t# Tabla K[][] \n",
    "\tfor i in range(n + 1):\n",
    "\t\tfor w in range(W + 1):\n",
    "\t\t\tif i == 0 or w == 0:\n",
    "\t\t\t\tK[i][w] = 0\n",
    "\t\t\telif wt[i - 1] <= w:\n",
    "\t\t\t\tK[i][w] = max(val[i - 1]\n",
    "\t\t\t\t+ K[i - 1][w - wt[i - 1]],\n",
    "\t\t\t\t\t\t\tK[i - 1][w])\n",
    "\t\t\telse:\n",
    "\t\t\t\tK[i][w] = K[i - 1][w]\n",
    "\n",
    "\t# Almacenamiento de valores Knapsack\n",
    "\tres = K[n][W]\n",
    "\tprint(res)\n",
    "\t\n",
    "\tw = W\n",
    "\tfor i in range(n, 0, -1):\n",
    "\t\tif res <= 0:\n",
    "\t\t\tbreak\n",
    "\t\t# sea que el resultado venga del\n",
    "\t\t# top (K[i-1][w]) o (val[i-1]\n",
    "\t\t# + K[i-1] [w-wt[i-1]]) de la tabla de Knapsack\n",
    "\t\t# El valor de uno significa que el elemento esta incluído\n",
    "\t\tif res == K[i - 1][w]:\n",
    "\t\t\tcontinue\n",
    "\t\telse:\n",
    "\n",
    "\t\t\t# Este elemento esta incluído\n",
    "\t\t\tprint(wt[i - 1])\n",
    "\t\t\t\n",
    "\t\t\t# Una vez que el valor del peso esta incluído\n",
    "\t\t\t# se deduce el valor\n",
    "\t\t\tres = res - val[i - 1]\n",
    "\t\t\tw = w - wt[i - 1]\n",
    "\n",
    "val = [ 60, 100, 120 ]\n",
    "wt = [ 10, 20, 30 ]\n",
    "W = 50\n",
    "n = len(val)\n",
    "\t\n",
    "printknapSack(W, wt, val, n)\n",
    "\n",
    "#En el resultado observamos que la suma de los objetos que pusimos\n",
    "#es de 100 y 120 con valores de peso de 30 y 20\n",
    "\n",
    "\n"
   ]
  },
  {
   "cell_type": "code",
   "execution_count": null,
   "id": "0f174696",
   "metadata": {},
   "outputs": [],
   "source": []
  }
 ],
 "metadata": {
  "kernelspec": {
   "display_name": "Python 3 (ipykernel)",
   "language": "python",
   "name": "python3"
  },
  "language_info": {
   "codemirror_mode": {
    "name": "ipython",
    "version": 3
   },
   "file_extension": ".py",
   "mimetype": "text/x-python",
   "name": "python",
   "nbconvert_exporter": "python",
   "pygments_lexer": "ipython3",
   "version": "3.9.7"
  }
 },
 "nbformat": 4,
 "nbformat_minor": 5
}
